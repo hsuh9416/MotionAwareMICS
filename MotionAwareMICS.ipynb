{
 "cells": [
  {
   "cell_type": "code",
   "execution_count": null,
   "id": "initial_id",
   "metadata": {
    "collapsed": true
   },
   "outputs": [],
   "source": [
    "\"\"\" Run Type: A100 in Colab pro+ \"\"\"\n",
    "# Check CUDA availability (If CUDA is not installed, please install it first!)\n",
    "import torch\n",
    "\n",
    "# CUDA Update/ Information\n",
    "!apt-get update -qq\n",
    "!apt-get install -y -qq nvidia-cuda-toolkit\n",
    "!nvidia-smi --query-gpu=name,memory.total,driver_version --format=csv,noheader\n",
    "\n",
    "# Set PyTorch to use TF32 precision (faster on A100)\n",
    "torch.backends.cuda.matmul.allow_tf32 = True\n",
    "torch.backends.cudnn.allow_tf32 = True\n",
    "\n",
    "# Install appropriate version for CUDA *Check from https://pytorch.org/get-started/previous-versions/\n",
    "%pip install torch==2.4.1 torchvision==0.19.1 torchaudio==2.4.1 --index-url https://download.pytorch.org/whl/cu124 -qq"
   ]
  },
  {
   "cell_type": "code",
   "execution_count": null,
   "id": "3806d101a1de5634",
   "metadata": {},
   "outputs": [],
   "source": [
    "# Mount Google Drive\n",
    "from google.colab import drive\n",
    "drive.mount('/content/drive')\n",
    "\n",
    "# Import Python libraries\n",
    "import sys\n",
    "sys.path.append('/content/drive/MyDrive/MotionAwareMICS') # Call Python scripts\n",
    "from main import main\n",
    "\n",
    "# UCF-101 download\n",
    "!wget -q -O /content/UCF101.zip https://www.crcv.ucf.edu/data/UCF101.rar\n",
    "!apt-get install -y unrar\n",
    "!unrar x /content/UCF101.zip /content/drive/MyDrive/MotionAwareMICS/data/UCF101/"
   ]
  },
  {
   "cell_type": "code",
   "execution_count": null,
   "id": "120165144794d990",
   "metadata": {},
   "outputs": [],
   "source": [
    "# Run main\n",
    "main()"
   ]
  }
 ],
 "metadata": {
  "kernelspec": {
   "display_name": "Python 3",
   "language": "python",
   "name": "python3"
  },
  "language_info": {
   "codemirror_mode": {
    "name": "ipython",
    "version": 2
   },
   "file_extension": ".py",
   "mimetype": "text/x-python",
   "name": "python",
   "nbconvert_exporter": "python",
   "pygments_lexer": "ipython2",
   "version": "2.7.6"
  }
 },
 "nbformat": 4,
 "nbformat_minor": 5
}
