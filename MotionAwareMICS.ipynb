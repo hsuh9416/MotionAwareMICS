{
 "cells": [
  {
   "cell_type": "code",
   "execution_count": null,
   "id": "initial_id",
   "metadata": {
    "collapsed": true
   },
   "outputs": [],
   "source": [
    "\"\"\" CUDA Setting \"\"\"\n",
    "import torch\n",
    "if torch.cuda.is_available():\n",
    "    print(\"CUDA Version:\", torch.version.cuda)\n",
    "    print(\"GPU Model:\", torch.cuda.get_device_name(0))\n",
    "    # Set PyTorch to use TF32 precision (faster on A100)\n",
    "    torch.backends.cuda.matmul.allow_tf32 = True\n",
    "    torch.backends.cudnn.allow_tf32 = True\n",
    "\n",
    "# Install appropriate version for CUDA *Check from https://pytorch.org/get-started/previous-versions/\n",
    "!pip install torch==2.4.1 torchvision==0.19.1 torchaudio==2.4.1 --index-url https://download.pytorch.org/whl/cu124 -qq\n",
    "\n",
    "# Install av for video processing\n",
    "!pip install av"
   ]
  },
  {
   "cell_type": "code",
   "execution_count": null,
   "id": "3806d101a1de5634",
   "metadata": {},
   "outputs": [],
   "source": [
    "import sys\n",
    "import os\n",
    "import urllib.request\n",
    "import zipfile\n",
    "from google.colab import drive\n",
    "\"\"\" Environment Setting \"\"\"\n",
    "# Mount Google Drive\n",
    "drive.mount('/content/drive')\n",
    "\n",
    "# Import Python libraries\n",
    "sys.path.append('/content/drive/MyDrive/MotionAwareMICS') # Call Python scripts\n",
    "\n",
    "# Make dir for hmdb51\n",
    "save_path = '/content/drive/MyDrive/MotionAwareMICS/data/hmdb51'\n",
    "os.makedirs(save_path, exist_ok=True)\n",
    "\n",
    "# HMDB51 ZIP file URL\n",
    "hmdb_url = \"https://serre-lab.clps.brown.edu/wp-content/uploads/2013/10/hmdb51_org.rar\"\n",
    "rar_path = os.path.join(save_path, 'hmdb51_org.rar')\n",
    "\n",
    "# download hmdb51\n",
    "urllib.request.urlretrieve(hmdb_url, rar_path)\n",
    "print(\"Download complete:\", rar_path)\n",
    "\n",
    "#upzip\n",
    "!apt-get install unrar\n",
    "!unrar x /content/hmdb51/hmdb51_org.rar /content/hmdb51/"
   ]
  },
  {
   "cell_type": "code",
   "execution_count": null,
   "id": "120165144794d990",
   "metadata": {},
   "outputs": [],
   "source": [
    "# Run main\n",
    "from main import main\n",
    "main()"
   ]
  }
 ],
 "metadata": {
  "kernelspec": {
   "display_name": "Python 3",
   "language": "python",
   "name": "python3"
  },
  "language_info": {
   "codemirror_mode": {
    "name": "ipython",
    "version": 2
   },
   "file_extension": ".py",
   "mimetype": "text/x-python",
   "name": "python",
   "nbconvert_exporter": "python",
   "pygments_lexer": "ipython2",
   "version": "2.7.6"
  }
 },
 "nbformat": 4,
 "nbformat_minor": 5
}
