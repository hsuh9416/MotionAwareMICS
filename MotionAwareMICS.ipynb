{
 "cells": [
  {
   "cell_type": "code",
   "execution_count": null,
   "id": "initial_id",
   "metadata": {
    "collapsed": true
   },
   "outputs": [],
   "source": [
    "\"\"\" CUDA Setting \"\"\"\n",
    "import torch\n",
    "if torch.cuda.is_available():\n",
    "    print(\"CUDA Version:\", torch.version.cuda)\n",
    "    print(\"GPU Model:\", torch.cuda.get_device_name(0))\n",
    "    # Set PyTorch to use TF32 precision (faster on A100)\n",
    "    torch.backends.cuda.matmul.allow_tf32 = True\n",
    "    torch.backends.cudnn.allow_tf32 = True\n",
    "\n",
    "# Install appropriate version for CUDA *Check from https://pytorch.org/get-started/previous-versions/\n",
    "!pip install torch==2.4.1 torchvision==0.19.1 torchaudio==2.4.1 --index-url https://download.pytorch.org/whl/cu124 -qq\n",
    "\n",
    "# Install av for video processing\n",
    "!pip install av"
   ]
  },
  {
   "cell_type": "code",
   "execution_count": null,
   "id": "3806d101a1de5634",
   "metadata": {},
   "outputs": [],
   "source": [
    "import sys\n",
    "from google.colab import drive\n",
    "\"\"\" Environment Setting \"\"\"\n",
    "# Mount Google Drive\n",
    "drive.mount('/content/drive')\n",
    "\n",
    "# Import Python libraries\n",
    "sys.path.append('/content/drive/MyDrive/MotionAwareMICS') # Call Python scripts"
   ]
  },
  {
   "cell_type": "code",
   "execution_count": null,
   "id": "120165144794d990",
   "metadata": {},
   "outputs": [],
   "source": [
    "# Run main\n",
    "from main import main\n",
    "main()"
   ]
  }
 ],
 "metadata": {
  "kernelspec": {
   "display_name": "Python 3",
   "language": "python",
   "name": "python3"
  },
  "language_info": {
   "codemirror_mode": {
    "name": "ipython",
    "version": 2
   },
   "file_extension": ".py",
   "mimetype": "text/x-python",
   "name": "python",
   "nbconvert_exporter": "python",
   "pygments_lexer": "ipython2",
   "version": "2.7.6"
  }
 },
 "nbformat": 4,
 "nbformat_minor": 5
}
